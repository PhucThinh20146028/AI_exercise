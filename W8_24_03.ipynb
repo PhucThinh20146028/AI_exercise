{
  "nbformat": 4,
  "nbformat_minor": 0,
  "metadata": {
    "colab": {
      "provenance": [],
      "authorship_tag": "ABX9TyOFYyuD+8gdp4guUO02flue",
      "include_colab_link": true
    },
    "kernelspec": {
      "name": "python3",
      "display_name": "Python 3"
    },
    "language_info": {
      "name": "python"
    }
  },
  "cells": [
    {
      "cell_type": "markdown",
      "metadata": {
        "id": "view-in-github",
        "colab_type": "text"
      },
      "source": [
        "<a href=\"https://colab.research.google.com/github/PhucThinh20146028/BTAI/blob/main/W8_24_03.ipynb\" target=\"_parent\"><img src=\"https://colab.research.google.com/assets/colab-badge.svg\" alt=\"Open In Colab\"/></a>"
      ]
    },
    {
      "cell_type": "code",
      "execution_count": null,
      "metadata": {
        "id": "muG8Eda_NWuo"
      },
      "outputs": [],
      "source": [
        "#artificial neural network ANN\n",
        "#perception"
      ]
    },
    {
      "cell_type": "code",
      "source": [
        "from sklearn.linear_model import Perceptron\n",
        "x = [[0,0],[1,0],[0,1],[1,1]]\n",
        "y = [0,1,1,1]\n",
        "model = Perceptron()\n",
        "model.fit(x,y)\n",
        "model.score(x,y)\n",
        "# kq = 1.0 la 100%"
      ],
      "metadata": {
        "colab": {
          "base_uri": "https://localhost:8080/"
        },
        "id": "2TgZd9bSXMeR",
        "outputId": "093357e0-4527-4a45-9bb0-9f285edc64b5"
      },
      "execution_count": null,
      "outputs": [
        {
          "output_type": "execute_result",
          "data": {
            "text/plain": [
              "1.0"
            ]
          },
          "metadata": {},
          "execution_count": 13
        }
      ]
    },
    {
      "cell_type": "code",
      "source": [
        "x1 = [[-0.5,-0.5],[10,-2],[-1,0.8],[3,5],[1,0.2],[-0.1,0.5]]\n",
        "y1 = model.predict(x1)\n",
        "print(y1)\n",
        "model.score(x1,y1)"
      ],
      "metadata": {
        "colab": {
          "base_uri": "https://localhost:8080/"
        },
        "id": "3uRWNCofYIYp",
        "outputId": "93da8ba5-6c1f-40be-de39-a67f7f9310d7"
      },
      "execution_count": null,
      "outputs": [
        {
          "output_type": "stream",
          "name": "stdout",
          "text": [
            "[0 1 0 1 1 0]\n"
          ]
        },
        {
          "output_type": "execute_result",
          "data": {
            "text/plain": [
              "1.0"
            ]
          },
          "metadata": {},
          "execution_count": 15
        }
      ]
    },
    {
      "cell_type": "code",
      "source": [
        "x1 = [[0.5,0],[0,0.5],[0.6,0],[0.51,0],[0.5,0.5]]\n",
        "y1 = model.predict(x1)\n",
        "print(y1)\n",
        "model.score(x1,y1)"
      ],
      "metadata": {
        "colab": {
          "base_uri": "https://localhost:8080/"
        },
        "id": "hLHAi1FnbZ6w",
        "outputId": "6cbce3a9-d181-4e54-f7c2-d4c9006d1ed7"
      },
      "execution_count": null,
      "outputs": [
        {
          "output_type": "stream",
          "name": "stdout",
          "text": [
            "[0 0 1 1 1]\n"
          ]
        },
        {
          "output_type": "execute_result",
          "data": {
            "text/plain": [
              "1.0"
            ]
          },
          "metadata": {},
          "execution_count": 21
        }
      ]
    },
    {
      "cell_type": "code",
      "source": [
        "from sklearn import datasets\n",
        "from sklearn.linear_model import Perceptron\n",
        "from sklearn.model_selection import train_test_split  #train phai nhieu hon test, ko dung train de test\n",
        "from sklearn.metrics import accuracy_score            \n",
        "from sklearn.preprocessing import StandardScaler\n",
        "\n",
        "iris = datasets.load_iris()\n",
        "X = iris.data\n",
        "y = iris.target\n",
        "print(X[:5])\n",
        "print(y[:5])\n",
        "#chia ddur du lieu ra 2 bo test va train\n",
        "X_train, X_test, y_train, y_test = train_test_split(X,y,test_size=0.3) #test 30% train 70%\n",
        "sc = StandardScaler()   #scale lai du lieu\n",
        "sc.fit(X_train) #hoc du lieu\n",
        "X_train_std = sc.transform(X_train) #ti le no\n",
        "X_test_std = sc.transform(X_test)\n"
      ],
      "metadata": {
        "colab": {
          "base_uri": "https://localhost:8080/"
        },
        "id": "VKJRiIa3cjs0",
        "outputId": "23facfaf-7427-4279-fa87-2637aa2a9500"
      },
      "execution_count": null,
      "outputs": [
        {
          "output_type": "stream",
          "name": "stdout",
          "text": [
            "[[5.1 3.5 1.4 0.2]\n",
            " [4.9 3.  1.4 0.2]\n",
            " [4.7 3.2 1.3 0.2]\n",
            " [4.6 3.1 1.5 0.2]\n",
            " [5.  3.6 1.4 0.2]]\n",
            "[0 0 0 0 0]\n"
          ]
        }
      ]
    },
    {
      "cell_type": "code",
      "source": [
        "model = Perceptron(max_iter=40, eta0= 0.1 , random_state= 0) #max_iter: so lan hoc: 40 lan; eta0: toc do hoc, cang nhanh cang thap chinh xac, tu 0 toi 1, random_state: lay ngau nhien\n",
        "model.fit(X_train_std, y_train)\n",
        "y_pred = model.predict(X_test_std)\n",
        "#in ra de so sanh\n",
        "print(y_pred)\n",
        "print(y_test)\n",
        "print('Do chinh xac cua mo hinh: ', accuracy_score(y_test,y_pred)) # do chinh xac cua test (hoc chinh xac cao hon test)"
      ],
      "metadata": {
        "colab": {
          "base_uri": "https://localhost:8080/"
        },
        "id": "888D0xekhCwn",
        "outputId": "d34652ef-cc86-49c9-c374-07d0fe01d01a"
      },
      "execution_count": null,
      "outputs": [
        {
          "output_type": "stream",
          "name": "stdout",
          "text": [
            "[2 2 2 1 0 0 0 0 1 2 1 0 2 2 2 1 1 0 0 2 0 2 0 0 1 1 1 2 0 0 2 1 1 0 1 0 0\n",
            " 0 2 1 1 2 2 2 1]\n",
            "[2 2 2 1 0 0 0 0 1 2 1 0 2 2 2 2 2 1 0 2 0 2 0 0 1 1 1 2 0 0 1 1 0 0 1 0 0\n",
            " 0 2 1 2 2 1 2 0]\n",
            "Do chinh xac cua mo hinh:  0.8222222222222222\n"
          ]
        }
      ]
    },
    {
      "cell_type": "code",
      "source": [
        "import pandas as pd\n",
        "url = '/content/crabs.csv'\n",
        "data = pd.read_csv(url)\n",
        "data.head\n",
        "\n",
        "#replace B,F la 0; O,M la 1\n",
        "old = ['B','O','M','F']\n",
        "new = [0,1,1,0]\n",
        "crabs = data.replace(old, new)\n",
        "print(crabs)"
      ],
      "metadata": {
        "colab": {
          "base_uri": "https://localhost:8080/"
        },
        "id": "TCck4EuSkaBo",
        "outputId": "9ce9ba53-4f5d-49fc-a130-d5147d58b56c"
      },
      "execution_count": null,
      "outputs": [
        {
          "output_type": "stream",
          "name": "stdout",
          "text": [
            "     speies  sex  index  fontallip  rearwidth  length  width  depth\n",
            "0         0    1      1        8.1        6.7    16.1   19.0    7.0\n",
            "1         0    1      2        8.8        7.7    18.1   20.8    7.4\n",
            "2         0    1      3        9.2        7.8    19.0   22.4    7.7\n",
            "3         0    1      4        9.6        7.9    20.1   23.1    8.2\n",
            "4         0    1      5        9.8        8.0    20.3   23.0    8.2\n",
            "..      ...  ...    ...        ...        ...     ...    ...    ...\n",
            "195       1    0     46       21.4       18.0    41.2   46.2   18.7\n",
            "196       1    0     47       21.7       17.1    41.7   47.2   19.6\n",
            "197       1    0     48       21.9       17.2    42.6   47.4   19.5\n",
            "198       1    0     49       22.5       17.2    43.0   48.7   19.8\n",
            "199       1    0     50       23.1       20.2    46.2   52.5   21.1\n",
            "\n",
            "[200 rows x 8 columns]\n"
          ]
        }
      ]
    },
    {
      "cell_type": "code",
      "source": [
        "from sklearn import datasets\n",
        "from sklearn.linear_model import Perceptron\n",
        "from sklearn.model_selection import train_test_split \n",
        "from sklearn.metrics import accuracy_score            \n",
        "from sklearn.preprocessing import StandardScaler\n",
        "\n",
        "\n",
        "X = crabs.iloc[:,[0] + list(range(2, len(crabs.columns)))] \n",
        "y = crabs.iloc[:,1:2]\n",
        "print(X[:])\n",
        "print(y[:])\n",
        "\n",
        "X_train, X_test, y_train, y_test = train_test_split(X,y,test_size=0.3) \n",
        "sc = StandardScaler()  \n",
        "sc.fit(X_train)\n",
        "X_train_std = sc.transform(X_train)\n",
        "X_test_std = sc.transform(X_test)\n",
        "\n",
        "model = Perceptron(max_iter=100000, eta0= 0.7 , random_state= 0)\n",
        "model.fit(X_train_std, y_train)\n",
        "y_pred = model.predict(X_test_std)\n",
        "#in ra de so sanh\n",
        "print(y_pred)\n",
        "print(y_test)\n",
        "print('Do chinh xac cua mo hinh: ', accuracy_score(y_test,y_pred))"
      ],
      "metadata": {
        "colab": {
          "base_uri": "https://localhost:8080/"
        },
        "id": "U8aIWAErmATj",
        "outputId": "6c23f79d-586f-4bc4-fabd-1cb669101111"
      },
      "execution_count": null,
      "outputs": [
        {
          "output_type": "stream",
          "name": "stdout",
          "text": [
            "     speies  index  fontallip  rearwidth  length  width  depth\n",
            "0         0      1        8.1        6.7    16.1   19.0    7.0\n",
            "1         0      2        8.8        7.7    18.1   20.8    7.4\n",
            "2         0      3        9.2        7.8    19.0   22.4    7.7\n",
            "3         0      4        9.6        7.9    20.1   23.1    8.2\n",
            "4         0      5        9.8        8.0    20.3   23.0    8.2\n",
            "..      ...    ...        ...        ...     ...    ...    ...\n",
            "195       1     46       21.4       18.0    41.2   46.2   18.7\n",
            "196       1     47       21.7       17.1    41.7   47.2   19.6\n",
            "197       1     48       21.9       17.2    42.6   47.4   19.5\n",
            "198       1     49       22.5       17.2    43.0   48.7   19.8\n",
            "199       1     50       23.1       20.2    46.2   52.5   21.1\n",
            "\n",
            "[200 rows x 7 columns]\n",
            "     sex\n",
            "0      1\n",
            "1      1\n",
            "2      1\n",
            "3      1\n",
            "4      1\n",
            "..   ...\n",
            "195    0\n",
            "196    0\n",
            "197    0\n",
            "198    0\n",
            "199    0\n",
            "\n",
            "[200 rows x 1 columns]\n",
            "[1 1 0 0 1 1 0 0 1 0 1 1 1 1 0 1 0 0 0 1 0 1 0 0 0 0 0 1 0 0 0 1 1 0 1 1 0\n",
            " 0 0 0 1 0 1 0 0 1 0 0 0 0 1 1 0 0 0 0 0 0 0 0]\n",
            "     sex\n",
            "22     1\n",
            "34     1\n",
            "116    1\n",
            "63     0\n",
            "4      1\n",
            "17     1\n",
            "82     0\n",
            "88     0\n",
            "137    1\n",
            "197    0\n",
            "127    1\n",
            "48     1\n",
            "125    1\n",
            "29     1\n",
            "157    0\n",
            "112    1\n",
            "99     0\n",
            "6      1\n",
            "159    0\n",
            "30     1\n",
            "199    0\n",
            "138    1\n",
            "71     0\n",
            "66     0\n",
            "93     0\n",
            "195    0\n",
            "98     0\n",
            "130    1\n",
            "155    0\n",
            "57     0\n",
            "74     0\n",
            "132    1\n",
            "13     1\n",
            "102    1\n",
            "105    1\n",
            "46     1\n",
            "189    0\n",
            "193    0\n",
            "104    1\n",
            "65     0\n",
            "121    1\n",
            "153    0\n",
            "147    1\n",
            "154    0\n",
            "106    1\n",
            "20     1\n",
            "79     0\n",
            "75     0\n",
            "179    0\n",
            "170    0\n",
            "41     1\n",
            "119    1\n",
            "59     0\n",
            "9      1\n",
            "76     0\n",
            "61     0\n",
            "78     0\n",
            "177    0\n",
            "187    0\n",
            "192    0\n",
            "Do chinh xac cua mo hinh:  0.9\n"
          ]
        },
        {
          "output_type": "stream",
          "name": "stderr",
          "text": [
            "/usr/local/lib/python3.9/dist-packages/sklearn/utils/validation.py:1143: DataConversionWarning: A column-vector y was passed when a 1d array was expected. Please change the shape of y to (n_samples, ), for example using ravel().\n",
            "  y = column_or_1d(y, warn=True)\n"
          ]
        }
      ]
    },
    {
      "cell_type": "code",
      "source": [],
      "metadata": {
        "id": "qEeoKu_FxLv-"
      },
      "execution_count": null,
      "outputs": []
    }
  ]
}